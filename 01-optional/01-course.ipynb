{
 "cells": [
  {
   "cell_type": "code",
   "execution_count": 1,
   "id": "a27eb9c3-1c04-43dd-a3ed-7f0cc5003b81",
   "metadata": {},
   "outputs": [],
   "source": [
    "import sys"
   ]
  },
  {
   "cell_type": "code",
   "execution_count": 3,
   "id": "c66f4018-70b5-4831-930c-9224c643bd5f",
   "metadata": {},
   "outputs": [
    {
     "data": {
      "text/plain": [
       "'/home/potcham/courses/llm_zoomcamp/llmzoom/bin/python'"
      ]
     },
     "execution_count": 3,
     "metadata": {},
     "output_type": "execute_result"
    }
   ],
   "source": [
    "sys.executable"
   ]
  },
  {
   "cell_type": "code",
   "execution_count": 4,
   "id": "7ebae52e-7ca6-4f95-be9e-e5e461eee7bf",
   "metadata": {},
   "outputs": [],
   "source": [
    "from openai import OpenAI\n",
    "\n",
    "client = OpenAI(\n",
    "    base_url = \"http://localhost:11434/v1/\",\n",
    "    api_key = \"ollama\"\n",
    ")"
   ]
  },
  {
   "cell_type": "code",
   "execution_count": 5,
   "id": "dc3f4103",
   "metadata": {},
   "outputs": [],
   "source": [
    "def llm(prompt):\n",
    "    response = client.chat.completions.create(\n",
    "        model=\"phi4-mini\",\n",
    "        messages=[{\"role\": \"user\", \"content\": prompt}]\n",
    "    )\n",
    "    return response.choices[0].message.content"
   ]
  },
  {
   "cell_type": "code",
   "execution_count": 8,
   "id": "40603ea7",
   "metadata": {},
   "outputs": [
    {
     "data": {
      "text/plain": [
       "'Sure! Here it goes:\\n\\n\"This document serves as an internal progress report for testing our new software update. We have conducted comprehensive tests to validate its features and overall performance.\"\\n\\n---\\n\\nAnd in the same spirit, here\\'s another take on what you\\'re implying: \"This page acts merely as a placeholder used during the development phase of this project; please disregard at your earliest convenience.\" \\n\\nLet me know if you need anything specific!'"
      ]
     },
     "execution_count": 8,
     "metadata": {},
     "output_type": "execute_result"
    }
   ],
   "source": [
    "llm(\"write that this is a test\")"
   ]
  },
  {
   "cell_type": "code",
   "execution_count": 9,
   "id": "b2b1e748",
   "metadata": {},
   "outputs": [
    {
     "name": "stdout",
     "output_type": "stream",
     "text": [
      "Sure! Here it goes:\n",
      "\n",
      "\"This document serves as an internal progress report for testing our new software update. We have conducted comprehensive tests to validate its features and overall performance.\"\n",
      "\n",
      "---\n",
      "\n",
      "And in the same spirit, here's another take on what you're implying: \"This page acts merely as a placeholder used during the development phase of this project; please disregard at your earliest convenience.\" \n",
      "\n",
      "Let me know if you need anything specific!\n"
     ]
    }
   ],
   "source": [
    "print(_)"
   ]
  },
  {
   "cell_type": "code",
   "execution_count": null,
   "id": "29b7d049",
   "metadata": {},
   "outputs": [],
   "source": [
    "docker run -it \\\n",
    "    -v ollama:/root/.ollama \\\n",
    "    -p 11434:11434 \\\n",
    "    --name ollama \\\n",
    "    ollama/ollama"
   ]
  },
  {
   "cell_type": "code",
   "execution_count": null,
   "id": "e3ae8d90",
   "metadata": {},
   "outputs": [],
   "source": [
    "docker exec -it ollama bash\n",
    "ollama pull phi3"
   ]
  },
  {
   "cell_type": "code",
   "execution_count": null,
   "id": "85ecc34d",
   "metadata": {},
   "outputs": [],
   "source": [
    "docker run -it \\\n",
    "    --rm \\\n",
    "    --name elasticsearch \\\n",
    "    -m 4GB \\\n",
    "    -p 9200:9200 \\\n",
    "    -p 9300:9300 \\\n",
    "    -e \"discovery.type=single-node\" \\\n",
    "    -e \"xpack.security.enabled=false\" \\\n",
    "    docker.elastic.co/elasticsearch/elasticsearch:8.4.3"
   ]
  },
  {
   "cell_type": "code",
   "execution_count": 37,
   "id": "5a85212b",
   "metadata": {},
   "outputs": [],
   "source": [
    "prompt_template = \"\"\"\n",
    "You're a course teaching assistant. Answer the QUESTION based on the CONTEXT from the QA database.\n",
    "Use only the facts from the CONTEXT when answering the QUESTION.\n",
    "If the CONTEXT doesn't contain the answer, output None.\n",
    "\n",
    "QUESTION: {question}\n",
    "\n",
    "CONTEXT: \n",
    "{context}\n",
    "\"\"\""
   ]
  },
  {
   "cell_type": "code",
   "execution_count": 41,
   "id": "468713eb",
   "metadata": {},
   "outputs": [],
   "source": [
    "context = \"\"\n",
    "\n",
    "for doc in results:\n",
    "    context = context + f\"section: {doc['section']}\\nquestion: {doc['question']}\\nanswer: {doc['text']}\\n\\n\""
   ]
  },
  {
   "cell_type": "code",
   "execution_count": 43,
   "id": "7513c1a7",
   "metadata": {},
   "outputs": [
    {
     "name": "stdout",
     "output_type": "stream",
     "text": [
      "('section: General course-related questions\\n'\n",
      " 'question: Course - Can I still join the course after the start date?\\n'\n",
      " \"answer: Yes, even if you don't register, you're still eligible to submit the \"\n",
      " 'homeworks.\\n'\n",
      " 'Be aware, however, that there will be deadlines for turning in the final '\n",
      " \"projects. So don't leave everything for the last minute.\\n\"\n",
      " '\\n'\n",
      " 'section: General course-related questions\\n'\n",
      " 'question: Course - Can I follow the course after it finishes?\\n'\n",
      " 'answer: Yes, we will keep all the materials after the course finishes, so '\n",
      " 'you can follow the course at your own pace after it finishes.\\n'\n",
      " 'You can also continue looking at the homeworks and continue preparing for '\n",
      " 'the next cohort. I guess you can also start working on your final capstone '\n",
      " 'project.\\n'\n",
      " '\\n'\n",
      " 'section: General course-related questions\\n'\n",
      " 'question: Course - When will the course start?\\n'\n",
      " 'answer: The purpose of this document is to capture frequently asked '\n",
      " 'technical questions\\n'\n",
      " 'The exact day and hour of the course will be 15th Jan 2024 at 17h00. The '\n",
      " \"course will start with the first  “Office Hours'' live.1\\n\"\n",
      " 'Subscribe to course public Google Calendar (it works from Desktop only).\\n'\n",
      " 'Register before the course starts using this link.\\n'\n",
      " 'Join the course Telegram channel with announcements.\\n'\n",
      " \"Don’t forget to register in DataTalks.Club's Slack and join the channel.\\n\"\n",
      " '\\n'\n",
      " 'section: General course-related questions\\n'\n",
      " 'question: Course - What can I do before the course starts?\\n'\n",
      " 'answer: You can start by installing and setting up all the dependencies and '\n",
      " 'requirements:\\n'\n",
      " 'Google cloud account\\n'\n",
      " 'Google Cloud SDK\\n'\n",
      " 'Python 3 (installed with Anaconda)\\n'\n",
      " 'Terraform\\n'\n",
      " 'Git\\n'\n",
      " 'Look over the prerequisites and syllabus to see if you are comfortable with '\n",
      " 'these subjects.\\n'\n",
      " '\\n'\n",
      " 'section: General course-related questions\\n'\n",
      " 'question: Course - Can I get support if I take the course in the self-paced '\n",
      " 'mode?\\n'\n",
      " 'answer: Yes, the slack channel remains open and you can ask questions there. '\n",
      " 'But always sDocker containers exit code w search the channel first and '\n",
      " 'second, check the FAQ (this document), most likely all your questions are '\n",
      " 'already answered here.\\n'\n",
      " 'You can also tag the bot @ZoomcampQABot to help you conduct the search, but '\n",
      " 'don’t rely on its answers 100%, it is pretty good though.\\n'\n",
      " '\\n')\n"
     ]
    }
   ],
   "source": [
    "pprint(context)"
   ]
  },
  {
   "cell_type": "code",
   "execution_count": 45,
   "id": "7d9a6a67",
   "metadata": {},
   "outputs": [
    {
     "name": "stdout",
     "output_type": "stream",
     "text": [
      "('\\n'\n",
      " \"You're a course teaching assistant. Answer the QUESTION based on the CONTEXT \"\n",
      " 'from the QA database.\\n'\n",
      " 'Use only the facts from the CONTEXT when answering the QUESTION.\\n'\n",
      " \"If the CONTEXT doesn't contain the answer, output None.\\n\"\n",
      " '\\n'\n",
      " 'QUESTION: the course has already started, can I still enroll?\\n'\n",
      " '\\n'\n",
      " 'CONTEXT: \\n'\n",
      " 'section: General course-related questions\\n'\n",
      " 'question: Course - Can I still join the course after the start date?\\n'\n",
      " \"answer: Yes, even if you don't register, you're still eligible to submit the \"\n",
      " 'homeworks.\\n'\n",
      " 'Be aware, however, that there will be deadlines for turning in the final '\n",
      " \"projects. So don't leave everything for the last minute.\\n\"\n",
      " '\\n'\n",
      " 'section: General course-related questions\\n'\n",
      " 'question: Course - Can I follow the course after it finishes?\\n'\n",
      " 'answer: Yes, we will keep all the materials after the course finishes, so '\n",
      " 'you can follow the course at your own pace after it finishes.\\n'\n",
      " 'You can also continue looking at the homeworks and continue preparing for '\n",
      " 'the next cohort. I guess you can also start working on your final capstone '\n",
      " 'project.\\n'\n",
      " '\\n'\n",
      " 'section: General course-related questions\\n'\n",
      " 'question: Course - When will the course start?\\n'\n",
      " 'answer: The purpose of this document is to capture frequently asked '\n",
      " 'technical questions\\n'\n",
      " 'The exact day and hour of the course will be 15th Jan 2024 at 17h00. The '\n",
      " \"course will start with the first  “Office Hours'' live.1\\n\"\n",
      " 'Subscribe to course public Google Calendar (it works from Desktop only).\\n'\n",
      " 'Register before the course starts using this link.\\n'\n",
      " 'Join the course Telegram channel with announcements.\\n'\n",
      " \"Don’t forget to register in DataTalks.Club's Slack and join the channel.\\n\"\n",
      " '\\n'\n",
      " 'section: General course-related questions\\n'\n",
      " 'question: Course - What can I do before the course starts?\\n'\n",
      " 'answer: You can start by installing and setting up all the dependencies and '\n",
      " 'requirements:\\n'\n",
      " 'Google cloud account\\n'\n",
      " 'Google Cloud SDK\\n'\n",
      " 'Python 3 (installed with Anaconda)\\n'\n",
      " 'Terraform\\n'\n",
      " 'Git\\n'\n",
      " 'Look over the prerequisites and syllabus to see if you are comfortable with '\n",
      " 'these subjects.\\n'\n",
      " '\\n'\n",
      " 'section: General course-related questions\\n'\n",
      " 'question: Course - Can I get support if I take the course in the self-paced '\n",
      " 'mode?\\n'\n",
      " 'answer: Yes, the slack channel remains open and you can ask questions there. '\n",
      " 'But always sDocker containers exit code w search the channel first and '\n",
      " 'second, check the FAQ (this document), most likely all your questions are '\n",
      " 'already answered here.\\n'\n",
      " 'You can also tag the bot @ZoomcampQABot to help you conduct the search, but '\n",
      " 'don’t rely on its answers 100%, it is pretty good though.\\n'\n",
      " '\\n'\n",
      " '\\n')\n"
     ]
    }
   ],
   "source": [
    "pprint(prompt_template.format(question=q, context=context))"
   ]
  },
  {
   "cell_type": "code",
   "execution_count": 46,
   "id": "6557e86e",
   "metadata": {},
   "outputs": [],
   "source": [
    "prompt = prompt_template.format(question=q, context=context).strip()"
   ]
  },
  {
   "cell_type": "code",
   "execution_count": 47,
   "id": "7bf82676",
   "metadata": {},
   "outputs": [
    {
     "data": {
      "text/plain": [
       "\"You're a course teaching assistant. Answer the QUESTION based on the CONTEXT from the QA database.\\nUse only the facts from the CONTEXT when answering the QUESTION.\\nIf the CONTEXT doesn't contain the answer, output None.\\n\\nQUESTION: the course has already started, can I still enroll?\\n\\nCONTEXT: \\nsection: General course-related questions\\nquestion: Course - Can I still join the course after the start date?\\nanswer: Yes, even if you don't register, you're still eligible to submit the homeworks.\\nBe aware, however, that there will be deadlines for turning in the final projects. So don't leave everything for the last minute.\\n\\nsection: General course-related questions\\nquestion: Course - Can I follow the course after it finishes?\\nanswer: Yes, we will keep all the materials after the course finishes, so you can follow the course at your own pace after it finishes.\\nYou can also continue looking at the homeworks and continue preparing for the next cohort. I guess you can also start working on your final capstone project.\\n\\nsection: General course-related questions\\nquestion: Course - When will the course start?\\nanswer: The purpose of this document is to capture frequently asked technical questions\\nThe exact day and hour of the course will be 15th Jan 2024 at 17h00. The course will start with the first  “Office Hours'' live.1\\nSubscribe to course public Google Calendar (it works from Desktop only).\\nRegister before the course starts using this link.\\nJoin the course Telegram channel with announcements.\\nDon’t forget to register in DataTalks.Club's Slack and join the channel.\\n\\nsection: General course-related questions\\nquestion: Course - What can I do before the course starts?\\nanswer: You can start by installing and setting up all the dependencies and requirements:\\nGoogle cloud account\\nGoogle Cloud SDK\\nPython 3 (installed with Anaconda)\\nTerraform\\nGit\\nLook over the prerequisites and syllabus to see if you are comfortable with these subjects.\\n\\nsection: General course-related questions\\nquestion: Course - Can I get support if I take the course in the self-paced mode?\\nanswer: Yes, the slack channel remains open and you can ask questions there. But always sDocker containers exit code w search the channel first and second, check the FAQ (this document), most likely all your questions are already answered here.\\nYou can also tag the bot @ZoomcampQABot to help you conduct the search, but don’t rely on its answers 100%, it is pretty good though.\""
      ]
     },
     "execution_count": 47,
     "metadata": {},
     "output_type": "execute_result"
    }
   ],
   "source": [
    "prompt"
   ]
  },
  {
   "cell_type": "code",
   "execution_count": 50,
   "id": "d9927a08",
   "metadata": {},
   "outputs": [],
   "source": [
    "response = client.chat.completions.create(\n",
    "    model=\"gpt-4o-mini\",\n",
    "    messages=[{\"role\": \"user\", \"content\": prompt}])"
   ]
  },
  {
   "cell_type": "code",
   "execution_count": 51,
   "id": "49bd1519",
   "metadata": {},
   "outputs": [
    {
     "data": {
      "text/plain": [
       "\"Yes, even if you don't register, you're still eligible to submit the homeworks. Be aware, however, that there will be deadlines for turning in the final projects. So don't leave everything for the last minute.\""
      ]
     },
     "execution_count": 51,
     "metadata": {},
     "output_type": "execute_result"
    }
   ],
   "source": [
    "response.choices[0].message.content"
   ]
  },
  {
   "cell_type": "code",
   "execution_count": 52,
   "id": "f8cfc5c4",
   "metadata": {},
   "outputs": [
    {
     "name": "stdout",
     "output_type": "stream",
     "text": [
      "(\"Yes, even if you don't register, you're still eligible to submit the \"\n",
      " 'homeworks. Be aware, however, that there will be deadlines for turning in '\n",
      " \"the final projects. So don't leave everything for the last minute.\")\n"
     ]
    }
   ],
   "source": [
    "pprint(response.choices[0].message.content)"
   ]
  },
  {
   "cell_type": "code",
   "execution_count": 78,
   "id": "3b39add7",
   "metadata": {},
   "outputs": [],
   "source": [
    "def search(query):\n",
    "    boost = {\"question\": 3.0, \"section\": 0.5}\n",
    "    results = index.search(\n",
    "        query=query,\n",
    "        boost_dict=boost,\n",
    "        num_results=5,\n",
    "        filter_dict={\"course\": \"data-engineering-zoomcamp\"}\n",
    "    )\n",
    "    return results"
   ]
  },
  {
   "cell_type": "code",
   "execution_count": 79,
   "id": "27183d51",
   "metadata": {},
   "outputs": [
    {
     "name": "stdout",
     "output_type": "stream",
     "text": [
      "[{'course': 'data-engineering-zoomcamp',\n",
      "  'question': 'Java Kafka: How to run producer/consumer/kstreams/etc in '\n",
      "              'terminal',\n",
      "  'section': 'Module 6: streaming with kafka',\n",
      "  'text': 'In the project directory, run:\\n'\n",
      "          'java -cp build/libs/<jar_name>-1.0-SNAPSHOT.jar:out '\n",
      "          'src/main/java/org/example/JsonProducer.java'},\n",
      " {'course': 'data-engineering-zoomcamp',\n",
      "  'question': 'Module “kafka” not found when trying to run producer.py',\n",
      "  'section': 'Module 6: streaming with kafka',\n",
      "  'text': 'Solution from Alexey: create a virtual environment and run '\n",
      "          'requirements.txt and the python files in that environment.\\n'\n",
      "          'To create a virtual env and install packages (run only once)\\n'\n",
      "          'python -m venv env\\n'\n",
      "          'source env/bin/activate\\n'\n",
      "          'pip install -r ../requirements.txt\\n'\n",
      "          \"To activate it (you'll need to run it every time you need the \"\n",
      "          'virtual env):\\n'\n",
      "          'source env/bin/activate\\n'\n",
      "          'To deactivate it:\\n'\n",
      "          'deactivate\\n'\n",
      "          'This works on MacOS, Linux and Windows - but for Windows the path '\n",
      "          \"is slightly different (it's env/Scripts/activate)\\n\"\n",
      "          'Also the virtual environment should be created only to run the '\n",
      "          'python file. Docker images should first all be up and running.'},\n",
      " {'course': 'data-engineering-zoomcamp',\n",
      "  'question': 'How do I install the necessary dependencies to run the code?',\n",
      "  'section': 'Workshop 1 - dlthub',\n",
      "  'text': \"Answer: To run the provided code, ensure that the 'dlt[duckdb]' \"\n",
      "          'package is installed. You can do this by executing the provided '\n",
      "          'installation command: !pip install dlt[duckdb]. If you’re doing it '\n",
      "          'locally, be sure to also have duckdb pip installed (even before the '\n",
      "          'duckdb package is loaded).'},\n",
      " {'course': 'data-engineering-zoomcamp',\n",
      "  'question': 'Python Kafka: ./build.sh: Permission denied Error',\n",
      "  'section': 'Module 6: streaming with kafka',\n",
      "  'text': 'Run this command in terminal in the same directory '\n",
      "          '(/docker/spark):\\n'\n",
      "          'chmod +x build.sh'},\n",
      " {'course': 'data-engineering-zoomcamp',\n",
      "  'question': 'How to fix the error \"ModuleNotFoundError: No module named '\n",
      "              '\\'kafka.vendor.six.moves\\'\"?',\n",
      "  'section': 'Project',\n",
      "  'text': 'According to https://github.com/dpkp/kafka-python/\\n'\n",
      "          '“DUE TO ISSUES WITH RELEASES, IT IS SUGGESTED TO USE '\n",
      "          'https://github.com/wbarnha/kafka-python-ng FOR THE TIME BEING”\\n'\n",
      "          'Use pip install kafka-python-ng instead'}]\n"
     ]
    }
   ],
   "source": [
    "pprint(search(\"How I do run kafka?\"))"
   ]
  },
  {
   "cell_type": "code",
   "execution_count": 80,
   "id": "28f3cfd9",
   "metadata": {},
   "outputs": [],
   "source": [
    "def build_prompt(query, search_results):\n",
    "    prompt_template = \"\"\"\n",
    "    You're a course teaching assistant. Answer the QUESTION based on the CONTEXT from the QA database.\n",
    "    Use only the facts from the CONTEXT when answering the QUESTION.\n",
    "    If the CONTEXT doesn't contain the answer, output None.\n",
    "\n",
    "    QUESTION: {question}\n",
    "\n",
    "    CONTEXT: \n",
    "    {context}\n",
    "    \"\"\".strip()\n",
    "\n",
    "    context = \"\"\n",
    "\n",
    "    for doc in search_results:\n",
    "        context = context + f\"section: {doc['section']}\\nquestion: {doc['question']}\\nanswer: {doc['text']}\\n\\n\"\n",
    "\n",
    "    prompt = prompt_template.format(question=query, context=context).strip()\n",
    "\n",
    "    return prompt"
   ]
  },
  {
   "cell_type": "code",
   "execution_count": 81,
   "id": "2a2ca3d8",
   "metadata": {},
   "outputs": [],
   "source": [
    "def llm(prompt):\n",
    "    response = client.chat.completions.create(\n",
    "        model=\"gpt-4o-mini\",\n",
    "        messages=[{\"role\": \"user\", \"content\": prompt}]\n",
    "    )\n",
    "    return response.choices[0].message.content"
   ]
  },
  {
   "cell_type": "code",
   "execution_count": 82,
   "id": "d20975b1",
   "metadata": {},
   "outputs": [],
   "source": [
    "query = \"How I do run kafka?\"\n",
    "search_results = search(query=query)\n",
    "prompt = build_prompt(query=query, search_results=search_results)\n",
    "answer = llm(prompt=prompt)"
   ]
  },
  {
   "cell_type": "code",
   "execution_count": 84,
   "id": "19b141f2",
   "metadata": {},
   "outputs": [
    {
     "name": "stdout",
     "output_type": "stream",
     "text": [
      "('To run Kafka from the terminal for Java, navigate to the project directory '\n",
      " 'and execute the following command:\\n'\n",
      " '\\n'\n",
      " '```\\n'\n",
      " 'java -cp build/libs/<jar_name>-1.0-SNAPSHOT.jar:out '\n",
      " 'src/main/java/org/example/JsonProducer.java\\n'\n",
      " '``` \\n'\n",
      " '\\n'\n",
      " 'For Python, create a virtual environment, activate it, and ensure the '\n",
      " 'necessary requirements are installed as described.')\n"
     ]
    }
   ],
   "source": [
    "pprint(answer)"
   ]
  },
  {
   "cell_type": "code",
   "execution_count": 87,
   "id": "d97e23d6",
   "metadata": {},
   "outputs": [],
   "source": [
    "def rag(query):\n",
    "    # query = \"How I do run kafka?\"\n",
    "    search_results = search(query=query)\n",
    "    prompt = build_prompt(query=query, search_results=search_results)\n",
    "    answer = llm(prompt=prompt)\n",
    "    return answer"
   ]
  },
  {
   "cell_type": "code",
   "execution_count": 88,
   "id": "8ffb1327",
   "metadata": {},
   "outputs": [
    {
     "data": {
      "text/plain": [
       "\"Yes, even if you don't register, you're still eligible to submit the homeworks. Be aware, however, that there will be deadlines for turning in the final projects. So don't leave everything for the last minute.\""
      ]
     },
     "execution_count": 88,
     "metadata": {},
     "output_type": "execute_result"
    }
   ],
   "source": [
    "rag(\"the course has already started, can i still enroll?\")"
   ]
  },
  {
   "cell_type": "code",
   "execution_count": null,
   "id": "be9449ed",
   "metadata": {},
   "outputs": [],
   "source": []
  },
  {
   "cell_type": "code",
   "execution_count": 90,
   "id": "ab756e74",
   "metadata": {},
   "outputs": [
    {
     "data": {
      "text/plain": [
       "{'text': \"The purpose of this document is to capture frequently asked technical questions\\nThe exact day and hour of the course will be 15th Jan 2024 at 17h00. The course will start with the first  “Office Hours'' live.1\\nSubscribe to course public Google Calendar (it works from Desktop only).\\nRegister before the course starts using this link.\\nJoin the course Telegram channel with announcements.\\nDon’t forget to register in DataTalks.Club's Slack and join the channel.\", 'section': 'General course-related questions', 'question': 'Course - When will the course start?', 'course': 'data-engineering-zoomcamp'}"
      ]
     },
     "execution_count": 90,
     "metadata": {},
     "output_type": "execute_result"
    }
   ],
   "source": [
    "documents[0]"
   ]
  },
  {
   "cell_type": "code",
   "execution_count": 91,
   "id": "2f18e779",
   "metadata": {},
   "outputs": [],
   "source": [
    "from elasticsearch import Elasticsearch\n"
   ]
  },
  {
   "cell_type": "code",
   "execution_count": 92,
   "id": "1191f26d",
   "metadata": {},
   "outputs": [],
   "source": [
    "es_client = Elasticsearch(\"http://localhost:9200\")"
   ]
  },
  {
   "cell_type": "code",
   "execution_count": 93,
   "id": "2e654e07",
   "metadata": {},
   "outputs": [
    {
     "data": {
      "text/plain": [
       "ObjectApiResponse({'acknowledged': True, 'shards_acknowledged': True, 'index': 'course-questions'})"
      ]
     },
     "execution_count": 93,
     "metadata": {},
     "output_type": "execute_result"
    }
   ],
   "source": [
    "index_settings = {\n",
    "    \"settings\": {\n",
    "        \"number_of_shards\": 1,\n",
    "        \"number_of_replicas\": 0\n",
    "    },\n",
    "    \"mappings\": {\n",
    "        \"properties\": {\n",
    "            \"text\": {\"type\": \"text\"},\n",
    "            \"section\": {\"type\": \"text\"},\n",
    "            \"question\": {\"type\": \"text\"},\n",
    "            \"course\": {\"type\": \"keyword\"} \n",
    "        }\n",
    "    }\n",
    "}\n",
    "\n",
    "index_name = \"course-questions\"\n",
    "\n",
    "es_client.indices.create(index=index_name, body=index_settings)"
   ]
  },
  {
   "cell_type": "code",
   "execution_count": 94,
   "id": "0bb94bba",
   "metadata": {},
   "outputs": [],
   "source": [
    "from tqdm.auto import tqdm"
   ]
  },
  {
   "cell_type": "code",
   "execution_count": 95,
   "id": "4c3ea69e",
   "metadata": {},
   "outputs": [
    {
     "data": {
      "application/vnd.jupyter.widget-view+json": {
       "model_id": "541c3ca8599a44a881decfb127d21f36",
       "version_major": 2,
       "version_minor": 0
      },
      "text/plain": [
       "  0%|          | 0/948 [00:00<?, ?it/s]"
      ]
     },
     "metadata": {},
     "output_type": "display_data"
    }
   ],
   "source": [
    "for doc in tqdm(documents):\n",
    "    es_client.index(index=index_name, document=doc)"
   ]
  },
  {
   "cell_type": "code",
   "execution_count": 96,
   "id": "7452dbc9",
   "metadata": {},
   "outputs": [],
   "source": [
    "query = \"I just discovered the course. Can I still join it?\""
   ]
  },
  {
   "cell_type": "code",
   "execution_count": 97,
   "id": "b4935a23",
   "metadata": {},
   "outputs": [],
   "source": [
    "search_query = {\n",
    "    \"size\": 5,\n",
    "    \"query\": {\n",
    "        \"bool\": {\n",
    "            \"must\": {\n",
    "                \"multi_match\": {\n",
    "                    \"query\": query,\n",
    "                    \"fields\": [\"question^3\", \"text\", \"section\"],\n",
    "                    \"type\": \"best_fields\"\n",
    "                }\n",
    "            },\n",
    "            \"filter\": {\n",
    "                \"term\": {\n",
    "                    \"course\": \"data-engineering-zoomcamp\"\n",
    "                }\n",
    "            }\n",
    "        }\n",
    "    }\n",
    "}"
   ]
  },
  {
   "cell_type": "code",
   "execution_count": 99,
   "id": "7aeac640",
   "metadata": {},
   "outputs": [],
   "source": [
    "response = es_client.search(index=index_name, body=search_query)"
   ]
  },
  {
   "cell_type": "code",
   "execution_count": 103,
   "id": "1cd5ec92",
   "metadata": {},
   "outputs": [
    {
     "name": "stdout",
     "output_type": "stream",
     "text": [
      "[{'_id': 'EsysdpcBLEvmKFNcSAcV',\n",
      "  '_index': 'course-questions',\n",
      "  '_score': 72.849266,\n",
      "  '_source': {'course': 'data-engineering-zoomcamp',\n",
      "              'question': 'Course - Can I still join the course after the '\n",
      "                          'start date?',\n",
      "              'section': 'General course-related questions',\n",
      "              'text': \"Yes, even if you don't register, you're still eligible \"\n",
      "                      'to submit the homeworks.\\n'\n",
      "                      'Be aware, however, that there will be deadlines for '\n",
      "                      \"turning in the final projects. So don't leave \"\n",
      "                      'everything for the last minute.'}},\n",
      " {'_id': 'F8ysdpcBLEvmKFNcSAcu',\n",
      "  '_index': 'course-questions',\n",
      "  '_score': 54.057133,\n",
      "  '_source': {'course': 'data-engineering-zoomcamp',\n",
      "              'question': 'Course - Can I follow the course after it finishes?',\n",
      "              'section': 'General course-related questions',\n",
      "              'text': 'Yes, we will keep all the materials after the course '\n",
      "                      'finishes, so you can follow the course at your own pace '\n",
      "                      'after it finishes.\\n'\n",
      "                      'You can also continue looking at the homeworks and '\n",
      "                      'continue preparing for the next cohort. I guess you can '\n",
      "                      'also start working on your final capstone project.'}},\n",
      " {'_id': 'FMysdpcBLEvmKFNcSAcf',\n",
      "  '_index': 'course-questions',\n",
      "  '_score': 43.841484,\n",
      "  '_source': {'course': 'data-engineering-zoomcamp',\n",
      "              'question': 'Course - What can I do before the course starts?',\n",
      "              'section': 'General course-related questions',\n",
      "              'text': 'You can start by installing and setting up all the '\n",
      "                      'dependencies and requirements:\\n'\n",
      "                      'Google cloud account\\n'\n",
      "                      'Google Cloud SDK\\n'\n",
      "                      'Python 3 (installed with Anaconda)\\n'\n",
      "                      'Terraform\\n'\n",
      "                      'Git\\n'\n",
      "                      'Look over the prerequisites and syllabus to see if you '\n",
      "                      'are comfortable with these subjects.'}},\n",
      " {'_id': 'GMysdpcBLEvmKFNcSAcy',\n",
      "  '_index': 'course-questions',\n",
      "  '_score': 42.651314,\n",
      "  '_source': {'course': 'data-engineering-zoomcamp',\n",
      "              'question': 'Course - Can I get support if I take the course in '\n",
      "                          'the self-paced mode?',\n",
      "              'section': 'General course-related questions',\n",
      "              'text': 'Yes, the slack channel remains open and you can ask '\n",
      "                      'questions there. But always sDocker containers exit '\n",
      "                      'code w search the channel first and second, check the '\n",
      "                      'FAQ (this document), most likely all your questions are '\n",
      "                      'already answered here.\\n'\n",
      "                      'You can also tag the bot @ZoomcampQABot to help you '\n",
      "                      'conduct the search, but don’t rely on its answers 100%, '\n",
      "                      'it is pretty good though.'}},\n",
      " {'_id': 'E8ysdpcBLEvmKFNcSAca',\n",
      "  '_index': 'course-questions',\n",
      "  '_score': 35.820084,\n",
      "  '_source': {'course': 'data-engineering-zoomcamp',\n",
      "              'question': 'Course - I have registered for the Data Engineering '\n",
      "                          'Bootcamp. When can I expect to receive the '\n",
      "                          'confirmation email?',\n",
      "              'section': 'General course-related questions',\n",
      "              'text': \"You don't need it. You're accepted. You can also just \"\n",
      "                      'start learning and submitting homework without '\n",
      "                      'registering. It is not checked against any registered '\n",
      "                      'list. Registration is just to gauge interest before the '\n",
      "                      'start date.'}}]\n"
     ]
    }
   ],
   "source": [
    "pprint(response[\"hits\"][\"hits\"])"
   ]
  },
  {
   "cell_type": "code",
   "execution_count": 104,
   "id": "094357c8",
   "metadata": {},
   "outputs": [],
   "source": [
    "result_docs = []\n",
    "for hit in response[\"hits\"][\"hits\"]:\n",
    "    result_docs.append(hit[\"_source\"])"
   ]
  },
  {
   "cell_type": "code",
   "execution_count": 106,
   "id": "08a2ff41",
   "metadata": {},
   "outputs": [
    {
     "name": "stdout",
     "output_type": "stream",
     "text": [
      "[{'course': 'data-engineering-zoomcamp',\n",
      "  'question': 'Course - Can I still join the course after the start date?',\n",
      "  'section': 'General course-related questions',\n",
      "  'text': \"Yes, even if you don't register, you're still eligible to submit \"\n",
      "          'the homeworks.\\n'\n",
      "          'Be aware, however, that there will be deadlines for turning in the '\n",
      "          \"final projects. So don't leave everything for the last minute.\"},\n",
      " {'course': 'data-engineering-zoomcamp',\n",
      "  'question': 'Course - Can I follow the course after it finishes?',\n",
      "  'section': 'General course-related questions',\n",
      "  'text': 'Yes, we will keep all the materials after the course finishes, so '\n",
      "          'you can follow the course at your own pace after it finishes.\\n'\n",
      "          'You can also continue looking at the homeworks and continue '\n",
      "          'preparing for the next cohort. I guess you can also start working '\n",
      "          'on your final capstone project.'},\n",
      " {'course': 'data-engineering-zoomcamp',\n",
      "  'question': 'Course - What can I do before the course starts?',\n",
      "  'section': 'General course-related questions',\n",
      "  'text': 'You can start by installing and setting up all the dependencies and '\n",
      "          'requirements:\\n'\n",
      "          'Google cloud account\\n'\n",
      "          'Google Cloud SDK\\n'\n",
      "          'Python 3 (installed with Anaconda)\\n'\n",
      "          'Terraform\\n'\n",
      "          'Git\\n'\n",
      "          'Look over the prerequisites and syllabus to see if you are '\n",
      "          'comfortable with these subjects.'},\n",
      " {'course': 'data-engineering-zoomcamp',\n",
      "  'question': 'Course - Can I get support if I take the course in the '\n",
      "              'self-paced mode?',\n",
      "  'section': 'General course-related questions',\n",
      "  'text': 'Yes, the slack channel remains open and you can ask questions '\n",
      "          'there. But always sDocker containers exit code w search the channel '\n",
      "          'first and second, check the FAQ (this document), most likely all '\n",
      "          'your questions are already answered here.\\n'\n",
      "          'You can also tag the bot @ZoomcampQABot to help you conduct the '\n",
      "          'search, but don’t rely on its answers 100%, it is pretty good '\n",
      "          'though.'},\n",
      " {'course': 'data-engineering-zoomcamp',\n",
      "  'question': 'Course - I have registered for the Data Engineering Bootcamp. '\n",
      "              'When can I expect to receive the confirmation email?',\n",
      "  'section': 'General course-related questions',\n",
      "  'text': \"You don't need it. You're accepted. You can also just start \"\n",
      "          'learning and submitting homework without registering. It is not '\n",
      "          'checked against any registered list. Registration is just to gauge '\n",
      "          'interest before the start date.'}]\n"
     ]
    }
   ],
   "source": [
    "pprint(result_docs)"
   ]
  },
  {
   "cell_type": "code",
   "execution_count": 107,
   "id": "c9e838fc",
   "metadata": {},
   "outputs": [],
   "source": [
    "def elastic_search(query):\n",
    "    search_query = {\n",
    "        \"size\": 5,\n",
    "        \"query\": {\n",
    "            \"bool\": {\n",
    "                \"must\": {\n",
    "                    \"multi_match\": {\n",
    "                        \"query\": query,\n",
    "                        \"fields\": [\"question^3\", \"text\", \"section\"],\n",
    "                        \"type\": \"best_fields\"\n",
    "                    }\n",
    "                },\n",
    "                \"filter\": {\n",
    "                    \"term\": {\n",
    "                        \"course\": \"data-engineering-zoomcamp\"\n",
    "                    }\n",
    "                }\n",
    "            }\n",
    "        }\n",
    "    }\n",
    "    response = es_client.search(index=index_name, body=search_query)\n",
    "\n",
    "    result_docs = []\n",
    "    for hit in response[\"hits\"][\"hits\"]:\n",
    "        result_docs.append(hit[\"_source\"])\n",
    "\n",
    "    return result_docs"
   ]
  },
  {
   "cell_type": "code",
   "execution_count": 108,
   "id": "96779747",
   "metadata": {},
   "outputs": [
    {
     "data": {
      "text/plain": [
       "[{'text': \"Yes, even if you don't register, you're still eligible to submit the homeworks.\\nBe aware, however, that there will be deadlines for turning in the final projects. So don't leave everything for the last minute.\", 'section': 'General course-related questions', 'question': 'Course - Can I still join the course after the start date?', 'course': 'data-engineering-zoomcamp'}, {'text': 'Yes, we will keep all the materials after the course finishes, so you can follow the course at your own pace after it finishes.\\nYou can also continue looking at the homeworks and continue preparing for the next cohort. I guess you can also start working on your final capstone project.', 'section': 'General course-related questions', 'question': 'Course - Can I follow the course after it finishes?', 'course': 'data-engineering-zoomcamp'}, {'text': 'You can start by installing and setting up all the dependencies and requirements:\\nGoogle cloud account\\nGoogle Cloud SDK\\nPython 3 (installed with Anaconda)\\nTerraform\\nGit\\nLook over the prerequisites and syllabus to see if you are comfortable with these subjects.', 'section': 'General course-related questions', 'question': 'Course - What can I do before the course starts?', 'course': 'data-engineering-zoomcamp'}, {'text': 'Yes, the slack channel remains open and you can ask questions there. But always sDocker containers exit code w search the channel first and second, check the FAQ (this document), most likely all your questions are already answered here.\\nYou can also tag the bot @ZoomcampQABot to help you conduct the search, but don’t rely on its answers 100%, it is pretty good though.', 'section': 'General course-related questions', 'question': 'Course - Can I get support if I take the course in the self-paced mode?', 'course': 'data-engineering-zoomcamp'}, {'text': \"You don't need it. You're accepted. You can also just start learning and submitting homework without registering. It is not checked against any registered list. Registration is just to gauge interest before the start date.\", 'section': 'General course-related questions', 'question': 'Course - I have registered for the Data Engineering Bootcamp. When can I expect to receive the confirmation email?', 'course': 'data-engineering-zoomcamp'}]"
      ]
     },
     "execution_count": 108,
     "metadata": {},
     "output_type": "execute_result"
    }
   ],
   "source": [
    "elastic_search(query)"
   ]
  },
  {
   "cell_type": "code",
   "execution_count": 109,
   "id": "4f1867cb",
   "metadata": {},
   "outputs": [],
   "source": [
    "def rag(query):\n",
    "    # query = \"How I do run kafka?\"\n",
    "    search_results = elastic_search(query=query)\n",
    "    prompt = build_prompt(query=query, search_results=search_results)\n",
    "    answer = llm(prompt=prompt)\n",
    "    return answer"
   ]
  },
  {
   "cell_type": "code",
   "execution_count": 110,
   "id": "f11b85c6",
   "metadata": {},
   "outputs": [
    {
     "data": {
      "text/plain": [
       "\"Yes, you can still join the course after the start date, even if you don't register. You're eligible to submit the homeworks, but be mindful of the deadlines for turning in the final projects.\""
      ]
     },
     "execution_count": 110,
     "metadata": {},
     "output_type": "execute_result"
    }
   ],
   "source": [
    "rag(query)"
   ]
  },
  {
   "cell_type": "code",
   "execution_count": 113,
   "id": "e8831d82",
   "metadata": {},
   "outputs": [
    {
     "name": "stdout",
     "output_type": "stream",
     "text": [
      "[{'_id': 'bMysdpcBLEvmKFNcUAlg',\n",
      "  '_index': 'course-questions',\n",
      "  '_score': 44.50556,\n",
      "  '_source': {'course': 'machine-learning-zoomcamp',\n",
      "              'question': 'How do I debug a docker container?',\n",
      "              'section': '5. Deploying Machine Learning Models',\n",
      "              'text': 'Launch the container image in interactive mode and '\n",
      "                      'overriding the entrypoint, so that it starts a bash '\n",
      "                      'command.\\n'\n",
      "                      'docker run -it --entrypoint bash <image>\\n'\n",
      "                      'If the container is already running, execute a command '\n",
      "                      'in the specific container:\\n'\n",
      "                      'docker ps (find the container-id)\\n'\n",
      "                      'docker exec -it <container-id> bash\\n'\n",
      "                      '(Marcos MJD)'}},\n",
      " {'_id': '-8ysdpcBLEvmKFNcUgkZ',\n",
      "  '_index': 'course-questions',\n",
      "  '_score': 35.433445,\n",
      "  '_source': {'course': 'machine-learning-zoomcamp',\n",
      "              'question': 'Kubernetes-dashboard',\n",
      "              'section': '10. Kubernetes and TensorFlow Serving',\n",
      "              'text': 'Deploy and Access the Kubernetes Dashboard\\nLuke'}},\n",
      " {'_id': 'jMysdpcBLEvmKFNcUAm7',\n",
      "  '_index': 'course-questions',\n",
      "  '_score': 33.70974,\n",
      "  '_source': {'course': 'machine-learning-zoomcamp',\n",
      "              'question': 'How do I copy files from a different folder into '\n",
      "                          'docker container’s working directory?',\n",
      "              'section': '5. Deploying Machine Learning Models',\n",
      "              'text': 'You can copy files from your local machine into a '\n",
      "                      \"Docker container using the docker cp command. Here's \"\n",
      "                      'how to do it:\\n'\n",
      "                      'In the Dockerfile, you can provide the folder '\n",
      "                      'containing the files that you want to copy over. The '\n",
      "                      'basic syntax is as follows:\\n'\n",
      "                      'COPY [\"src/predict.py\", \"models/xgb_model.bin\", '\n",
      "                      '\"./\"]\\t\\t\\t\\t\\t\\t\\t\\t\\t\\t\\tGopakumar Gopinathan'}},\n",
      " {'_id': 'e8ysdpcBLEvmKFNcUAmH',\n",
      "  '_index': 'course-questions',\n",
      "  '_score': 33.2635,\n",
      "  '_source': {'course': 'machine-learning-zoomcamp',\n",
      "              'question': 'How to run a script while a web-server is working?',\n",
      "              'section': '5. Deploying Machine Learning Models',\n",
      "              'text': 'Problem description:\\n'\n",
      "                      'I started a web-server in terminal (command window, '\n",
      "                      'powershell, etc.). How can I run another python script, '\n",
      "                      'which makes a request to this server?\\n'\n",
      "                      'Solution description:\\n'\n",
      "                      'Just open another terminal (command window, powershell, '\n",
      "                      'etc.) and run a python script.\\n'\n",
      "                      'Alena Kniazeva'}},\n",
      " {'_id': 'TsysdpcBLEvmKFNcTwn9',\n",
      "  '_index': 'course-questions',\n",
      "  '_score': 32.589073,\n",
      "  '_source': {'course': 'machine-learning-zoomcamp',\n",
      "              'question': 'How can I annotate a graph?',\n",
      "              'section': '4. Evaluation Metrics for Classification',\n",
      "              'text': 'Matplotlib has a cool method to annotate where you '\n",
      "                      'could provide an X,Y point and annotate with an arrow '\n",
      "                      'and text. For example this will show an arrow pointing '\n",
      "                      'to the x,y point optimal threshold.\\n'\n",
      "                      \"plt.annotate(f'Optimal Threshold: \"\n",
      "                      '{optimal_threshold:.2f}\\\\nOptimal F1 Score: '\n",
      "                      \"{optimal_f1_score:.2f}',\\n\"\n",
      "                      'xy=(optimal_threshold, optimal_f1_score),\\n'\n",
      "                      'xytext=(0.3, 0.5),\\n'\n",
      "                      \"textcoords='axes fraction',\\n\"\n",
      "                      \"arrowprops=dict(facecolor='black', shrink=0.05))\\n\"\n",
      "                      'Quinn Avila'}}]\n"
     ]
    }
   ],
   "source": [
    "# Q3. Searching\n",
    "# Now let's search in our index.\n",
    "\n",
    "# We will execute a query \"How do execute a command on a Kubernetes pod?\".\n",
    "\n",
    "# Use only question and text fields and give question a boost of 4, and use \"type\": \"best_fields\".\n",
    "\n",
    "# What's the score for the top ranking result?\n",
    "\n",
    "## 44.5\n",
    "\n",
    "query = \"How do execute a command on a Kubernetes pod?\"\n",
    "\n",
    "search_query = {\n",
    "        \"size\": 5,\n",
    "        \"query\": {\n",
    "            \"bool\": {\n",
    "                \"must\": {\n",
    "                    \"multi_match\": {\n",
    "                        \"query\": query,\n",
    "                        \"fields\": [\"question^4\", \"text\"],\n",
    "                        \"type\": \"best_fields\"\n",
    "                    }\n",
    "                },\n",
    "            }\n",
    "        }\n",
    "    }\n",
    "\n",
    "response = es_client.search(index=index_name, body=search_query)\n",
    "\n",
    "pprint(response[\"hits\"][\"hits\"]) ##"
   ]
  },
  {
   "cell_type": "code",
   "execution_count": 114,
   "id": "f5008bc4",
   "metadata": {},
   "outputs": [
    {
     "name": "stdout",
     "output_type": "stream",
     "text": [
      "[{'_id': 'bMysdpcBLEvmKFNcUAlg',\n",
      "  '_index': 'course-questions',\n",
      "  '_score': 73.38676,\n",
      "  '_source': {'course': 'machine-learning-zoomcamp',\n",
      "              'question': 'How do I debug a docker container?',\n",
      "              'section': '5. Deploying Machine Learning Models',\n",
      "              'text': 'Launch the container image in interactive mode and '\n",
      "                      'overriding the entrypoint, so that it starts a bash '\n",
      "                      'command.\\n'\n",
      "                      'docker run -it --entrypoint bash <image>\\n'\n",
      "                      'If the container is already running, execute a command '\n",
      "                      'in the specific container:\\n'\n",
      "                      'docker ps (find the container-id)\\n'\n",
      "                      'docker exec -it <container-id> bash\\n'\n",
      "                      '(Marcos MJD)'}},\n",
      " {'_id': 'i8ysdpcBLEvmKFNcUAm5',\n",
      "  '_index': 'course-questions',\n",
      "  '_score': 66.688705,\n",
      "  '_source': {'course': 'machine-learning-zoomcamp',\n",
      "              'question': 'How do I copy files from my local machine to docker '\n",
      "                          'container?',\n",
      "              'section': '5. Deploying Machine Learning Models',\n",
      "              'text': 'You can copy files from your local machine into a '\n",
      "                      \"Docker container using the docker cp command. Here's \"\n",
      "                      'how to do it:\\n'\n",
      "                      'To copy a file or directory from your local machine '\n",
      "                      'into a running Docker container, you can use the '\n",
      "                      '`docker cp command`. The basic syntax is as follows:\\n'\n",
      "                      'docker cp /path/to/local/file_or_directory '\n",
      "                      'container_id:/path/in/container\\n'\n",
      "                      'Hrithik Kumar Advani'}},\n",
      " {'_id': 'jMysdpcBLEvmKFNcUAm7',\n",
      "  '_index': 'course-questions',\n",
      "  '_score': 59.812744,\n",
      "  '_source': {'course': 'machine-learning-zoomcamp',\n",
      "              'question': 'How do I copy files from a different folder into '\n",
      "                          'docker container’s working directory?',\n",
      "              'section': '5. Deploying Machine Learning Models',\n",
      "              'text': 'You can copy files from your local machine into a '\n",
      "                      \"Docker container using the docker cp command. Here's \"\n",
      "                      'how to do it:\\n'\n",
      "                      'In the Dockerfile, you can provide the folder '\n",
      "                      'containing the files that you want to copy over. The '\n",
      "                      'basic syntax is as follows:\\n'\n",
      "                      'COPY [\"src/predict.py\", \"models/xgb_model.bin\", '\n",
      "                      '\"./\"]\\t\\t\\t\\t\\t\\t\\t\\t\\t\\t\\tGopakumar Gopinathan'}}]\n"
     ]
    }
   ],
   "source": [
    "# Q4. Filtering\n",
    "# Now ask a different question: \"How do copy a file to a Docker container?\".\n",
    "\n",
    "# This time we are only interested in questions from machine-learning-zoomcamp.\n",
    "\n",
    "# Return 3 results. What's the 3rd question returned by the search engine?\n",
    "\n",
    "## 'How do I copy files from a different folder into docker container’s working directory?'\n",
    "\n",
    "\n",
    "query = \"How do copy a file to a Docker container?\"\n",
    "\n",
    "search_query = {\n",
    "        \"size\": 3,\n",
    "        \"query\": {\n",
    "            \"bool\": {\n",
    "                \"must\": {\n",
    "                    \"multi_match\": {\n",
    "                        \"query\": query,\n",
    "                        \"fields\": [\"question^4\", \"text\"],\n",
    "                        \"type\": \"best_fields\"\n",
    "                    }\n",
    "                },\n",
    "                \"filter\": {\n",
    "                    \"term\": {\n",
    "                        \"course\": \"machine-learning-zoomcamp\"\n",
    "                    }\n",
    "                }\n",
    "            }\n",
    "        }\n",
    "    }\n",
    "\n",
    "response = es_client.search(index=index_name, body=search_query)\n",
    "\n",
    "pprint(response[\"hits\"][\"hits\"]) ##"
   ]
  },
  {
   "cell_type": "code",
   "execution_count": 115,
   "id": "0eb93df9",
   "metadata": {},
   "outputs": [],
   "source": [
    "# Q5. Building a prompt\n",
    "# Now we're ready to build a prompt to send to an LLM.\n",
    "\n",
    "# Take the records returned from Elasticsearch in Q4 and use this template to build the context.\n",
    "# Separate context entries by two linebreaks (\\n\\n)\n",
    "\n",
    "\n",
    "context_template = \"\"\"\n",
    "Q: {question}\n",
    "A: {text}\n",
    "\"\"\".strip()"
   ]
  },
  {
   "cell_type": "code",
   "execution_count": 117,
   "id": "2c831e8b",
   "metadata": {},
   "outputs": [],
   "source": [
    "result_docs = []\n",
    "for hit in response[\"hits\"][\"hits\"]:\n",
    "    result_docs.append(hit[\"_source\"])"
   ]
  },
  {
   "cell_type": "code",
   "execution_count": 119,
   "id": "6179af7c",
   "metadata": {},
   "outputs": [
    {
     "name": "stdout",
     "output_type": "stream",
     "text": [
      "[{'course': 'machine-learning-zoomcamp',\n",
      "  'question': 'How do I debug a docker container?',\n",
      "  'section': '5. Deploying Machine Learning Models',\n",
      "  'text': 'Launch the container image in interactive mode and overriding the '\n",
      "          'entrypoint, so that it starts a bash command.\\n'\n",
      "          'docker run -it --entrypoint bash <image>\\n'\n",
      "          'If the container is already running, execute a command in the '\n",
      "          'specific container:\\n'\n",
      "          'docker ps (find the container-id)\\n'\n",
      "          'docker exec -it <container-id> bash\\n'\n",
      "          '(Marcos MJD)'},\n",
      " {'course': 'machine-learning-zoomcamp',\n",
      "  'question': 'How do I copy files from my local machine to docker container?',\n",
      "  'section': '5. Deploying Machine Learning Models',\n",
      "  'text': 'You can copy files from your local machine into a Docker container '\n",
      "          \"using the docker cp command. Here's how to do it:\\n\"\n",
      "          'To copy a file or directory from your local machine into a running '\n",
      "          'Docker container, you can use the `docker cp command`. The basic '\n",
      "          'syntax is as follows:\\n'\n",
      "          'docker cp /path/to/local/file_or_directory '\n",
      "          'container_id:/path/in/container\\n'\n",
      "          'Hrithik Kumar Advani'},\n",
      " {'course': 'machine-learning-zoomcamp',\n",
      "  'question': 'How do I copy files from a different folder into docker '\n",
      "              'container’s working directory?',\n",
      "  'section': '5. Deploying Machine Learning Models',\n",
      "  'text': 'You can copy files from your local machine into a Docker container '\n",
      "          \"using the docker cp command. Here's how to do it:\\n\"\n",
      "          'In the Dockerfile, you can provide the folder containing the files '\n",
      "          'that you want to copy over. The basic syntax is as follows:\\n'\n",
      "          'COPY [\"src/predict.py\", \"models/xgb_model.bin\", '\n",
      "          '\"./\"]\\t\\t\\t\\t\\t\\t\\t\\t\\t\\t\\tGopakumar Gopinathan'}]\n"
     ]
    }
   ],
   "source": [
    "pprint(result_docs)"
   ]
  },
  {
   "cell_type": "code",
   "execution_count": 134,
   "id": "b42cd03a",
   "metadata": {},
   "outputs": [],
   "source": [
    "context = \"\"\n",
    "\n",
    "context_template = \"\"\"\n",
    "Q: {question}\n",
    "A: {text}\n",
    "\"\"\".strip()\n",
    "\n",
    "for result_doc in result_docs:\n",
    "    context += f\"\"\"\n",
    "    Q: {result_doc[\"question\"]}\n",
    "A: {result_doc[\"text\"]}\"\"\".strip()\n",
    "\n",
    "    context += \"\\n\\n\""
   ]
  },
  {
   "cell_type": "code",
   "execution_count": 135,
   "id": "3af68c8f",
   "metadata": {},
   "outputs": [
    {
     "name": "stdout",
     "output_type": "stream",
     "text": [
      "Q: How do I debug a docker container?\n",
      "A: Launch the container image in interactive mode and overriding the entrypoint, so that it starts a bash command.\n",
      "docker run -it --entrypoint bash <image>\n",
      "If the container is already running, execute a command in the specific container:\n",
      "docker ps (find the container-id)\n",
      "docker exec -it <container-id> bash\n",
      "(Marcos MJD)\n",
      "\n",
      "Q: How do I copy files from my local machine to docker container?\n",
      "A: You can copy files from your local machine into a Docker container using the docker cp command. Here's how to do it:\n",
      "To copy a file or directory from your local machine into a running Docker container, you can use the `docker cp command`. The basic syntax is as follows:\n",
      "docker cp /path/to/local/file_or_directory container_id:/path/in/container\n",
      "Hrithik Kumar Advani\n",
      "\n",
      "Q: How do I copy files from a different folder into docker container’s working directory?\n",
      "A: You can copy files from your local machine into a Docker container using the docker cp command. Here's how to do it:\n",
      "In the Dockerfile, you can provide the folder containing the files that you want to copy over. The basic syntax is as follows:\n",
      "COPY [\"src/predict.py\", \"models/xgb_model.bin\", \"./\"]\t\t\t\t\t\t\t\t\t\t\tGopakumar Gopinathan\n",
      "\n",
      "\n"
     ]
    }
   ],
   "source": [
    "print(context)"
   ]
  },
  {
   "cell_type": "code",
   "execution_count": 139,
   "id": "4842e42e",
   "metadata": {},
   "outputs": [
    {
     "data": {
      "text/plain": [
       "'How do copy a file to a Docker container?'"
      ]
     },
     "execution_count": 139,
     "metadata": {},
     "output_type": "execute_result"
    }
   ],
   "source": [
    "question = query\n",
    "question"
   ]
  },
  {
   "cell_type": "code",
   "execution_count": 131,
   "id": "ba08b83e",
   "metadata": {},
   "outputs": [
    {
     "data": {
      "text/plain": [
       "'Q: How do I debug a docker container?\\n    A: Launch the container image in interactive mode and overriding the entrypoint, so that it starts a bash command.\\ndocker run -it --entrypoint bash <image>\\nIf the container is already running, execute a command in the specific container:\\ndocker ps (find the container-id)\\ndocker exec -it <container-id> bash\\n(Marcos MJD)Q: How do I copy files from my local machine to docker container?\\n    A: You can copy files from your local machine into a Docker container using the docker cp command. Here\\'s how to do it:\\nTo copy a file or directory from your local machine into a running Docker container, you can use the `docker cp command`. The basic syntax is as follows:\\ndocker cp /path/to/local/file_or_directory container_id:/path/in/container\\nHrithik Kumar AdvaniQ: How do I copy files from a different folder into docker container’s working directory?\\n    A: You can copy files from your local machine into a Docker container using the docker cp command. Here\\'s how to do it:\\nIn the Dockerfile, you can provide the folder containing the files that you want to copy over. The basic syntax is as follows:\\nCOPY [\"src/predict.py\", \"models/xgb_model.bin\", \"./\"]\\t\\t\\t\\t\\t\\t\\t\\t\\t\\t\\tGopakumar Gopinathan'"
      ]
     },
     "execution_count": 131,
     "metadata": {},
     "output_type": "execute_result"
    }
   ],
   "source": [
    "prompt_template = \"\"\"\n",
    "You're a course teaching assistant. Answer the QUESTION based on the CONTEXT from the FAQ database.\n",
    "Use only the facts from the CONTEXT when answering the QUESTION.\n",
    "\n",
    "QUESTION: {question}\n",
    "\n",
    "CONTEXT:\n",
    "{context}\n",
    "\"\"\".strip()"
   ]
  },
  {
   "cell_type": "code",
   "execution_count": 143,
   "id": "0f8106dd",
   "metadata": {},
   "outputs": [
    {
     "name": "stdout",
     "output_type": "stream",
     "text": [
      "\n",
      "You're a course teaching assistant. Answer the QUESTION based on the CONTEXT from the QA database.\n",
      "Use only the facts from the CONTEXT when answering the QUESTION.\n",
      "If the CONTEXT doesn't contain the answer, output None.\n",
      "\n",
      "QUESTION: How do copy a file to a Docker container?\n",
      "\n",
      "CONTEXT: \n",
      "Q: How do I debug a docker container?\n",
      "A: Launch the container image in interactive mode and overriding the entrypoint, so that it starts a bash command.\n",
      "docker run -it --entrypoint bash <image>\n",
      "If the container is already running, execute a command in the specific container:\n",
      "docker ps (find the container-id)\n",
      "docker exec -it <container-id> bash\n",
      "(Marcos MJD)\n",
      "\n",
      "Q: How do I copy files from my local machine to docker container?\n",
      "A: You can copy files from your local machine into a Docker container using the docker cp command. Here's how to do it:\n",
      "To copy a file or directory from your local machine into a running Docker container, you can use the `docker cp command`. The basic syntax is as follows:\n",
      "docker cp /path/to/local/file_or_directory container_id:/path/in/container\n",
      "Hrithik Kumar Advani\n",
      "\n",
      "Q: How do I copy files from a different folder into docker container’s working directory?\n",
      "A: You can copy files from your local machine into a Docker container using the docker cp command. Here's how to do it:\n",
      "In the Dockerfile, you can provide the folder containing the files that you want to copy over. The basic syntax is as follows:\n",
      "COPY [\"src/predict.py\", \"models/xgb_model.bin\", \"./\"]\t\t\t\t\t\t\t\t\t\t\tGopakumar Gopinathan\n",
      "\n",
      "\n",
      "\n"
     ]
    }
   ],
   "source": [
    "prompt = prompt_template.format(question=query, context=context)\n",
    "print(prompt)"
   ]
  },
  {
   "cell_type": "code",
   "execution_count": 144,
   "id": "62187899",
   "metadata": {},
   "outputs": [
    {
     "data": {
      "text/plain": [
       "1506"
      ]
     },
     "execution_count": 144,
     "metadata": {},
     "output_type": "execute_result"
    }
   ],
   "source": [
    "len(prompt)"
   ]
  },
  {
   "cell_type": "code",
   "execution_count": 145,
   "id": "330a9157",
   "metadata": {},
   "outputs": [],
   "source": [
    "import tiktoken"
   ]
  },
  {
   "cell_type": "code",
   "execution_count": 146,
   "id": "2d5da14b",
   "metadata": {},
   "outputs": [],
   "source": [
    "\n",
    "encoding = tiktoken.encoding_for_model(\"gpt-4o\")"
   ]
  },
  {
   "cell_type": "code",
   "execution_count": 148,
   "id": "ae6a5182",
   "metadata": {},
   "outputs": [],
   "source": [
    "tokens = encoding.encode(text=prompt)"
   ]
  },
  {
   "cell_type": "code",
   "execution_count": 149,
   "id": "ac7eb762",
   "metadata": {},
   "outputs": [
    {
     "data": {
      "text/plain": [
       "335"
      ]
     },
     "execution_count": 149,
     "metadata": {},
     "output_type": "execute_result"
    }
   ],
   "source": [
    "len(tokens)"
   ]
  },
  {
   "cell_type": "code",
   "execution_count": 150,
   "id": "38e98a7b",
   "metadata": {},
   "outputs": [
    {
     "data": {
      "text/plain": [
       "b\"You're\""
      ]
     },
     "execution_count": 150,
     "metadata": {},
     "output_type": "execute_result"
    }
   ],
   "source": [
    "encoding.decode_single_token_bytes(63842)\n"
   ]
  },
  {
   "cell_type": "code",
   "execution_count": null,
   "id": "680d0b93",
   "metadata": {},
   "outputs": [],
   "source": []
  },
  {
   "cell_type": "code",
   "execution_count": null,
   "id": "caaf5c96",
   "metadata": {},
   "outputs": [],
   "source": []
  },
  {
   "cell_type": "code",
   "execution_count": null,
   "id": "1315c84c",
   "metadata": {},
   "outputs": [],
   "source": []
  },
  {
   "cell_type": "code",
   "execution_count": null,
   "id": "dc9f2135",
   "metadata": {},
   "outputs": [],
   "source": [
    "def elastic_search(query):\n",
    "    search_query = {\n",
    "        \"size\": 5,\n",
    "        \"query\": {\n",
    "            \"bool\": {\n",
    "                \"must\": {\n",
    "                    \"multi_match\": {\n",
    "                        \"query\": query,\n",
    "                        \"fields\": [\"question^3\", \"text\", \"section\"],\n",
    "                        \"type\": \"best_fields\"\n",
    "                    }\n",
    "                },\n",
    "                \"filter\": {\n",
    "                    \"term\": {\n",
    "                        \"course\": \"data-engineering-zoomcamp\"\n",
    "                    }\n",
    "                }\n",
    "            }\n",
    "        }\n",
    "    }\n",
    "    response = es_client.search(index=index_name, body=search_query)\n",
    "\n",
    "    result_docs = []\n",
    "    for hit in response[\"hits\"][\"hits\"]:\n",
    "        result_docs.append(hit[\"_source\"])\n",
    "\n",
    "    return result_docs"
   ]
  },
  {
   "cell_type": "code",
   "execution_count": null,
   "id": "e9f46cff",
   "metadata": {},
   "outputs": [],
   "source": []
  }
 ],
 "metadata": {
  "kernelspec": {
   "display_name": "llmzoom",
   "language": "python",
   "name": "python3"
  },
  "language_info": {
   "codemirror_mode": {
    "name": "ipython",
    "version": 3
   },
   "file_extension": ".py",
   "mimetype": "text/x-python",
   "name": "python",
   "nbconvert_exporter": "python",
   "pygments_lexer": "ipython3",
   "version": "3.10.12"
  }
 },
 "nbformat": 4,
 "nbformat_minor": 5
}
